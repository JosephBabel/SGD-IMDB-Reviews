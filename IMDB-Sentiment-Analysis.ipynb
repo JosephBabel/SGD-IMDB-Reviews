{
 "cells": [
  {
   "cell_type": "markdown",
   "id": "grand-seattle",
   "metadata": {},
   "source": [
    "# Multiclass Sentiment Analysis Using IMDB Reviews\n",
    "\n",
    "**Authors:** Joseph Babel, Cameron Harte\n",
    "\n",
    "**Description:**\n",
    "We build several models using different classification algorithms in conjunction with n-gram and tf-idf features to find the best combination for classifying IMDB reviews into multiple sentiment classes.\n",
    "\n",
    "**Task Distribution:**\n",
    "\n",
    "Joseph Babel: Preprocess data, train and test SGD classifier, train and test SVM classifier, build confusion matrix with better prediction metrics\n",
    "\n",
    "Cameron Harte: Build csv files for train and test data, build ngram models, train and test NB classifier, train and test ME classifier\n",
    "\n",
    "**Required Modules:**\n",
    "Python 3.8, scikit-learn 0.24.1, nltk 3.5"
   ]
  },
  {
   "cell_type": "markdown",
   "id": "novel-concert",
   "metadata": {},
   "source": [
    "## Download (Only If Missing Stopwords File)"
   ]
  },
  {
   "cell_type": "code",
   "execution_count": 1,
   "id": "selective-impression",
   "metadata": {},
   "outputs": [
    {
     "name": "stderr",
     "output_type": "stream",
     "text": [
      "[nltk_data] Downloading package stopwords to\n",
      "[nltk_data]     C:\\Users\\Joey\\AppData\\Roaming\\nltk_data...\n",
      "[nltk_data]   Package stopwords is already up-to-date!\n"
     ]
    },
    {
     "data": {
      "text/plain": [
       "True"
      ]
     },
     "execution_count": 1,
     "metadata": {},
     "output_type": "execute_result"
    }
   ],
   "source": [
    "import nltk\n",
    "nltk.download('stopwords')"
   ]
  },
  {
   "cell_type": "markdown",
   "id": "returning-bones",
   "metadata": {},
   "source": [
    "## Imports"
   ]
  },
  {
   "cell_type": "code",
   "execution_count": 23,
   "id": "coated-hungarian",
   "metadata": {},
   "outputs": [],
   "source": [
    "# FILE I/O\n",
    "import csv  # generate csv files\n",
    "import os  # operating system functions\n",
    "\n",
    "# DATA PREPROCESSING\n",
    "import re  # regex\n",
    "from nltk.corpus import stopwords # stopwords\n",
    "from nltk.stem.porter import * # \n",
    "\n",
    "# FEATURE EXTRACTOR\n",
    "from sklearn.feature_extraction.text import CountVectorizer\n",
    "from sklearn.feature_extraction.text import TfidfVectorizer\n",
    "\n",
    "# CLASSIFIERS\n",
    "from sklearn.naive_bayes import MultinomialNB # naive bayes"
   ]
  },
  {
   "cell_type": "markdown",
   "id": "aquatic-accent",
   "metadata": {},
   "source": [
    "## Create CSV file\n",
    "This will create both train and test csv files that include the raw text review with classification."
   ]
  },
  {
   "cell_type": "code",
   "execution_count": 24,
   "id": "aboriginal-corner",
   "metadata": {},
   "outputs": [],
   "source": [
    "def create_csv_file(filename, train):\n",
    "    header = ['row_number', 'text', 'classification']\n",
    "    \n",
    "    if train == True:\n",
    "        path_to_mostly_neg = \"Labeled-Data/Train/Mostly-Negative/\"\n",
    "        path_to_slightly_neg = \"Labeled-Data/Train/Slightly-Negative/\"\n",
    "        path_to_neutral = \"Labeled-Data/Train/Neutral/\"\n",
    "        path_to_slightly_pos = \"Labeled-Data/Train/Slightly-Positive/\"\n",
    "        path_to_mostly_pos = \"Labeled-Data/Train/Mostly-Positive/\"\n",
    "    else:\n",
    "        path_to_mostly_neg = \"Labeled-Data/Test/Mostly-Negative/\"\n",
    "        path_to_slightly_neg = \"Labeled-Data/Test/Slightly-Negative/\"\n",
    "        path_to_neutral = \"Labeled-Data/Test/Neutral/\"\n",
    "        path_to_slightly_pos = \"Labeled-Data/Test/Slightly-Positive/\"\n",
    "        path_to_mostly_pos = \"Labeled-Data/Test/Mostly-Positive/\"\n",
    "        \n",
    "    count = 0\n",
    "    \n",
    "    with open(filename, \"w\", newline = '') as f1:\n",
    "        writer = csv.writer(f1, delimiter = ',')\n",
    "        writer.writerow(header)\n",
    "        # add mostly negative reviews\n",
    "        for f in os.listdir(path_to_mostly_neg):\n",
    "            classification = 0\n",
    "            if f.endswith(\".txt\"):\n",
    "                open_file = open(path_to_mostly_neg+f, \"r\")\n",
    "                data = open_file.read()\n",
    "                writer.writerow([count, f'\"{data}\"', classification])\n",
    "                count += 1\n",
    "                open_file.close()\n",
    "        # add slightly negative reviews\n",
    "        for f in os.listdir(path_to_slightly_neg):\n",
    "            classification = 1\n",
    "            if f.endswith(\".txt\"):\n",
    "                open_file = open(path_to_slightly_neg+f, \"r\")\n",
    "                data = open_file.read()\n",
    "                writer.writerow([count, f'\"{data}\"', classification])\n",
    "                count += 1\n",
    "                open_file.close()\n",
    "        # add neutral reviews\n",
    "        for f in os.listdir(path_to_neutral):\n",
    "            classification = 2\n",
    "            if f.endswith(\".txt\"):\n",
    "                open_file = open(path_to_neutral+f, \"r\")\n",
    "                data = open_file.read()\n",
    "                writer.writerow([count, f'\"{data}\"', classification])\n",
    "                count += 1\n",
    "                open_file.close()\n",
    "        # add slightly positive reviews\n",
    "        for f in os.listdir(path_to_slightly_pos):\n",
    "            classification = 3\n",
    "            if f.endswith(\".txt\"):\n",
    "                open_file = open(path_to_slightly_pos+f, \"r\")\n",
    "                data = open_file.read()\n",
    "                writer.writerow([count, f'\"{data}\"', classification])\n",
    "                count += 1\n",
    "                open_file.close()\n",
    "        # add mostly positive reviews\n",
    "        for f in os.listdir(path_to_mostly_pos):\n",
    "            classification = 4\n",
    "            if f.endswith(\".txt\"):\n",
    "                open_file = open(path_to_mostly_pos+f, \"r\")\n",
    "                data = open_file.read()\n",
    "                writer.writerow([count, f'\"{data}\"', classification])\n",
    "                count += 1\n",
    "                open_file.close()"
   ]
  },
  {
   "cell_type": "code",
   "execution_count": 25,
   "id": "assured-chosen",
   "metadata": {},
   "outputs": [],
   "source": [
    "create_csv_file(\"imdb_train.csv\", train = True)\n",
    "create_csv_file(\"imdb_test.csv\", train = False)"
   ]
  },
  {
   "cell_type": "markdown",
   "id": "personal-wheel",
   "metadata": {},
   "source": [
    "## Create List of Reviews and Classifications\n",
    "review_text_train, review_text_test - contain review text in preparation for converting them into n-grams.\n",
    "\n",
    "y_train, y_test - contain classification labels for both training and testing our model."
   ]
  },
  {
   "cell_type": "code",
   "execution_count": 26,
   "id": "challenging-hepatitis",
   "metadata": {},
   "outputs": [],
   "source": [
    "def create_reviews_list(filename):\n",
    "    review_text = []\n",
    "    classification = []\n",
    "    with open(filename,'r') as csvfile:\n",
    "            reader = csv.reader(csvfile, delimiter = ',')\n",
    "            next(reader, None)\n",
    "            for row in reader:\n",
    "                review_text.append(row[1])\n",
    "                classification.append(row[2])\n",
    "    return review_text, classification"
   ]
  },
  {
   "cell_type": "code",
   "execution_count": 27,
   "id": "stainless-influence",
   "metadata": {},
   "outputs": [],
   "source": [
    "review_text_train, y_train = create_reviews_list(\"imdb_train.csv\")\n",
    "review_text_test, y_test = create_reviews_list(\"imdb_test.csv\")\n",
    "\n",
    "# convert classifications to list of integers\n",
    "y_train = list(map(int, y_train))\n",
    "y_test = list(map(int, y_test))"
   ]
  },
  {
   "cell_type": "markdown",
   "id": "smoking-billy",
   "metadata": {},
   "source": [
    "## Preprocess Data\n",
    "1) Remove html tags\n",
    "\n",
    "2) Remove special characters\n",
    "\n",
    "3) Convert to lowercase\n",
    "\n",
    "4) Remove stopwords\n",
    "\n",
    "5) Apply stemming\n"
   ]
  },
  {
   "cell_type": "code",
   "execution_count": 28,
   "id": "threatened-adaptation",
   "metadata": {},
   "outputs": [],
   "source": [
    "def preprocess_data(review_text):\n",
    "    stemmer = PorterStemmer()\n",
    "    for index, row in enumerate(review_text):\n",
    "        row = re.sub(r'<.*?>', '', row) # remove html tags\n",
    "        row = re.sub(r'[^a-zA-Z. ]', '', row) # remove special characters\n",
    "        row = row.lower() # convert to lowercase\n",
    "        row = \" \".join([stemmer.stem(word) for word in row.split() if word not in set(stopwords.words('english'))]) # remove stop words and apply stemming\n",
    "        review_text[index] = row\n",
    "    return review_text"
   ]
  },
  {
   "cell_type": "code",
   "execution_count": 29,
   "id": "obvious-semester",
   "metadata": {},
   "outputs": [],
   "source": [
    "review_text_train=preprocess_data(review_text_train)\n",
    "review_text_test=preprocess_data(review_text_test)"
   ]
  },
  {
   "cell_type": "markdown",
   "id": "refined-variance",
   "metadata": {},
   "source": [
    "## Convert Review Text Into N-Grams"
   ]
  },
  {
   "cell_type": "code",
   "execution_count": 30,
   "id": "about-sustainability",
   "metadata": {},
   "outputs": [],
   "source": [
    "def text_to_ngram(review_text_train, review_text_test, ngram_range, tfidf):\n",
    "    # output of integers\n",
    "    \n",
    "    if tfidf == True:\n",
    "        # use_idf when 'True' enables inverse-document-frequency re-weighting\n",
    "        # ngram_range = ngram_range sets the lower and upper boundary of range of n-values\n",
    "        tfidfvec = TfidVectorizer (use_idf = True, ngram_range = ngram_range)\n",
    "        \n",
    "        # training data learns vocabulary dictionary and returns document-term matrix \n",
    "        X_train = tfidfvec.fit_transform(review_text_train)\n",
    "        \n",
    "        # transforms the test data to document-term matrix\n",
    "        X_test = tfidfvec.transform(review_text_test)\n",
    "    else:\n",
    "        cvec = CountVectorizer (analyzer = 'word', ngram_range = ngram_range)\n",
    "        \n",
    "        X_train = cvec.fit_transform(review_text_train)\n",
    "        \n",
    "        X_test = cvec.fit_transform(review_text_test)\n",
    "\n",
    "    return x_train, x_test\n",
    "                                    "
   ]
  },
  {
   "cell_type": "markdown",
   "id": "developed-repair",
   "metadata": {},
   "source": [
    "## SGD Classifier (Stochastic Gradient Descent)"
   ]
  },
  {
   "cell_type": "code",
   "execution_count": 31,
   "id": "advanced-intention",
   "metadata": {
    "scrolled": true
   },
   "outputs": [],
   "source": [
    "def sgd_classifier(review_text_train, y_train, review_text_test, ngram_range, tfidf):\n",
    "    x_train, x_test = text_to_ngram(review_text_train, review_text_test, ngram_range, tfidf)"
   ]
  },
  {
   "cell_type": "markdown",
   "id": "southwest-symphony",
   "metadata": {},
   "source": [
    "## SVM Classifier (Support Vector Machine)"
   ]
  },
  {
   "cell_type": "code",
   "execution_count": 32,
   "id": "working-ladder",
   "metadata": {},
   "outputs": [],
   "source": [
    "def svm_classifier(review_text_train, y_train, review_text_test, ngram_range, tfidf):\n",
    "    x_train, x_test = text_to_ngram(review_text_train, review_text_test, ngram_range, tfidf)"
   ]
  },
  {
   "cell_type": "markdown",
   "id": "elect-mileage",
   "metadata": {},
   "source": [
    "## NB Classifier (Naive Bayes)"
   ]
  },
  {
   "cell_type": "code",
   "execution_count": 33,
   "id": "defined-evidence",
   "metadata": {},
   "outputs": [],
   "source": [
    "def nb_classifier(review_text_train, y_train, review_text_test, ngram_range, tfidf):\n",
    "    \n",
    "    \n",
    "    x_train, x_test = text_to_ngram(review_text_train, review_text_test, ngram_range, tfidf)\n",
    "    \n",
    "    classifier = MultinomialNB()\n",
    "    classifier.fit(x_train, y_train)\n",
    "    \n",
    "    y_prediction = classifier.predict(X_test)\n",
    "    y_real_prediction = classifier.predict(x_test)\n",
    "    \n",
    "    # non-neg measure of the quality of estimator\n",
    "    mean_square_error = ((y_prediction - y_test) ** 2).mean()\n",
    "    \n",
    "    # is a measure of the differences between values predicted\n",
    "    root_mean_square_error = sqrt(mean_square_error)"
   ]
  },
  {
   "cell_type": "markdown",
   "id": "dependent-channels",
   "metadata": {},
   "source": [
    "## ME Classifier (Maximum Entropy)"
   ]
  },
  {
   "cell_type": "code",
   "execution_count": 34,
   "id": "plain-shaft",
   "metadata": {},
   "outputs": [],
   "source": [
    "def me_classifier(review_text_train, y_train, review_text_test, ngram_range, tfidf):\n",
    "    x_train, x_test = text_to_ngram(review_text_train, review_text_test, ngram_range, tfidf)"
   ]
  },
  {
   "cell_type": "markdown",
   "id": "common-anaheim",
   "metadata": {},
   "source": [
    "## Predictions"
   ]
  },
  {
   "cell_type": "code",
   "execution_count": 37,
   "id": "organized-juice",
   "metadata": {},
   "outputs": [
    {
     "ename": "ValueError",
     "evalue": "empty vocabulary; perhaps the documents only contain stop words",
     "output_type": "error",
     "traceback": [
      "\u001b[1;31m---------------------------------------------------------------------------\u001b[0m",
      "\u001b[1;31mValueError\u001b[0m                                Traceback (most recent call last)",
      "\u001b[1;32m<ipython-input-37-e290d23faf8c>\u001b[0m in \u001b[0;36m<module>\u001b[1;34m\u001b[0m\n\u001b[1;32m----> 1\u001b[1;33m \u001b[0mnb_classifier\u001b[0m\u001b[1;33m(\u001b[0m\u001b[0mreview_text_train\u001b[0m\u001b[1;33m,\u001b[0m \u001b[0my_train\u001b[0m\u001b[1;33m,\u001b[0m \u001b[0mreview_text_test\u001b[0m\u001b[1;33m,\u001b[0m \u001b[1;33m(\u001b[0m\u001b[1;36m1\u001b[0m\u001b[1;33m,\u001b[0m\u001b[1;36m1\u001b[0m\u001b[1;33m)\u001b[0m\u001b[1;33m,\u001b[0m \u001b[1;32mFalse\u001b[0m\u001b[1;33m)\u001b[0m\u001b[1;33m\u001b[0m\u001b[1;33m\u001b[0m\u001b[0m\n\u001b[0m",
      "\u001b[1;32m<ipython-input-33-83378c61f9f3>\u001b[0m in \u001b[0;36mnb_classifier\u001b[1;34m(review_text_train, y_train, review_text_test, ngram_range, tfidf)\u001b[0m\n\u001b[0;32m      2\u001b[0m \u001b[1;33m\u001b[0m\u001b[0m\n\u001b[0;32m      3\u001b[0m \u001b[1;33m\u001b[0m\u001b[0m\n\u001b[1;32m----> 4\u001b[1;33m     \u001b[0mx_train\u001b[0m\u001b[1;33m,\u001b[0m \u001b[0mx_test\u001b[0m \u001b[1;33m=\u001b[0m \u001b[0mtext_to_ngram\u001b[0m\u001b[1;33m(\u001b[0m\u001b[0mreview_text_train\u001b[0m\u001b[1;33m,\u001b[0m \u001b[0mreview_text_test\u001b[0m\u001b[1;33m,\u001b[0m \u001b[0mngram_range\u001b[0m\u001b[1;33m,\u001b[0m \u001b[0mtfidf\u001b[0m\u001b[1;33m)\u001b[0m\u001b[1;33m\u001b[0m\u001b[1;33m\u001b[0m\u001b[0m\n\u001b[0m\u001b[0;32m      5\u001b[0m \u001b[1;33m\u001b[0m\u001b[0m\n\u001b[0;32m      6\u001b[0m     \u001b[0mclassifier\u001b[0m \u001b[1;33m=\u001b[0m \u001b[0mMultinomialNB\u001b[0m\u001b[1;33m(\u001b[0m\u001b[1;33m)\u001b[0m\u001b[1;33m\u001b[0m\u001b[1;33m\u001b[0m\u001b[0m\n",
      "\u001b[1;32m<ipython-input-30-b2c75caaf035>\u001b[0m in \u001b[0;36mtext_to_ngram\u001b[1;34m(review_text_train, review_text_test, ngram_range, tfidf)\u001b[0m\n\u001b[0;32m     17\u001b[0m         \u001b[0mX_train\u001b[0m \u001b[1;33m=\u001b[0m \u001b[0mcvec\u001b[0m\u001b[1;33m.\u001b[0m\u001b[0mfit_transform\u001b[0m\u001b[1;33m(\u001b[0m\u001b[0mreview_text_train\u001b[0m\u001b[1;33m)\u001b[0m\u001b[1;33m\u001b[0m\u001b[1;33m\u001b[0m\u001b[0m\n\u001b[0;32m     18\u001b[0m \u001b[1;33m\u001b[0m\u001b[0m\n\u001b[1;32m---> 19\u001b[1;33m         \u001b[0mX_test\u001b[0m \u001b[1;33m=\u001b[0m \u001b[0mcvec\u001b[0m\u001b[1;33m.\u001b[0m\u001b[0mfit_transform\u001b[0m\u001b[1;33m(\u001b[0m\u001b[0mreview_text_test\u001b[0m\u001b[1;33m)\u001b[0m\u001b[1;33m\u001b[0m\u001b[1;33m\u001b[0m\u001b[0m\n\u001b[0m\u001b[0;32m     20\u001b[0m \u001b[1;33m\u001b[0m\u001b[0m\n\u001b[0;32m     21\u001b[0m     \u001b[1;32mreturn\u001b[0m \u001b[0mx_train\u001b[0m\u001b[1;33m,\u001b[0m \u001b[0mx_test\u001b[0m\u001b[1;33m\u001b[0m\u001b[1;33m\u001b[0m\u001b[0m\n",
      "\u001b[1;32m~\\.conda\\envs\\CSC664\\lib\\site-packages\\sklearn\\feature_extraction\\text.py\u001b[0m in \u001b[0;36mfit_transform\u001b[1;34m(self, raw_documents, y)\u001b[0m\n\u001b[0;32m   1202\u001b[0m \u001b[1;33m\u001b[0m\u001b[0m\n\u001b[0;32m   1203\u001b[0m         vocabulary, X = self._count_vocab(raw_documents,\n\u001b[1;32m-> 1204\u001b[1;33m                                           self.fixed_vocabulary_)\n\u001b[0m\u001b[0;32m   1205\u001b[0m \u001b[1;33m\u001b[0m\u001b[0m\n\u001b[0;32m   1206\u001b[0m         \u001b[1;32mif\u001b[0m \u001b[0mself\u001b[0m\u001b[1;33m.\u001b[0m\u001b[0mbinary\u001b[0m\u001b[1;33m:\u001b[0m\u001b[1;33m\u001b[0m\u001b[1;33m\u001b[0m\u001b[0m\n",
      "\u001b[1;32m~\\.conda\\envs\\CSC664\\lib\\site-packages\\sklearn\\feature_extraction\\text.py\u001b[0m in \u001b[0;36m_count_vocab\u001b[1;34m(self, raw_documents, fixed_vocab)\u001b[0m\n\u001b[0;32m   1132\u001b[0m             \u001b[0mvocabulary\u001b[0m \u001b[1;33m=\u001b[0m \u001b[0mdict\u001b[0m\u001b[1;33m(\u001b[0m\u001b[0mvocabulary\u001b[0m\u001b[1;33m)\u001b[0m\u001b[1;33m\u001b[0m\u001b[1;33m\u001b[0m\u001b[0m\n\u001b[0;32m   1133\u001b[0m             \u001b[1;32mif\u001b[0m \u001b[1;32mnot\u001b[0m \u001b[0mvocabulary\u001b[0m\u001b[1;33m:\u001b[0m\u001b[1;33m\u001b[0m\u001b[1;33m\u001b[0m\u001b[0m\n\u001b[1;32m-> 1134\u001b[1;33m                 raise ValueError(\"empty vocabulary; perhaps the documents only\"\n\u001b[0m\u001b[0;32m   1135\u001b[0m                                  \" contain stop words\")\n\u001b[0;32m   1136\u001b[0m \u001b[1;33m\u001b[0m\u001b[0m\n",
      "\u001b[1;31mValueError\u001b[0m: empty vocabulary; perhaps the documents only contain stop words"
     ]
    }
   ],
   "source": [
    "nb_classifier(review_text_train, y_train, review_text_test, (1,1), False)"
   ]
  },
  {
   "cell_type": "code",
   "execution_count": null,
   "id": "ordinary-antarctica",
   "metadata": {},
   "outputs": [],
   "source": []
  },
  {
   "cell_type": "code",
   "execution_count": null,
   "id": "collaborative-pitch",
   "metadata": {},
   "outputs": [],
   "source": []
  },
  {
   "cell_type": "code",
   "execution_count": null,
   "id": "ceramic-karen",
   "metadata": {},
   "outputs": [],
   "source": []
  }
 ],
 "metadata": {
  "kernelspec": {
   "display_name": "Python 3",
   "language": "python",
   "name": "python3"
  },
  "language_info": {
   "codemirror_mode": {
    "name": "ipython",
    "version": 3
   },
   "file_extension": ".py",
   "mimetype": "text/x-python",
   "name": "python",
   "nbconvert_exporter": "python",
   "pygments_lexer": "ipython3",
   "version": "3.7.10"
  }
 },
 "nbformat": 4,
 "nbformat_minor": 5
}
