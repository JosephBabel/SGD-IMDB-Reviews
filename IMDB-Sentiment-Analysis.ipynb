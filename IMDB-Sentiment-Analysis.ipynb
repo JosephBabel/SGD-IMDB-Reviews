{
 "cells": [
  {
   "cell_type": "markdown",
   "id": "alive-finland",
   "metadata": {},
   "source": [
    "# Multiclass Sentiment Analysis Using IMDB Reviews\n",
    "\n",
    "**Authors:** Joseph Babel, Cameron Harte\n",
    "\n",
    "**Description:**\n",
    "We build several models using different classification algorithms in conjunction with n-gram and tf-idf features to find the best combination for classifying IMDB reviews into multiple sentiment classes.\n",
    "\n",
    "**Task Distribution:**\n",
    "\n",
    "Joseph Babel: Preprocess data, train and test SGD classifier, train and test SVM classifier, build confusion matrix with better prediction metrics\n",
    "\n",
    "Cameron Harte: Build csv files for train and test data, build ngram models, train and test NB classifier, train and test ME classifier\n",
    "\n",
    "**Required Modules:**\n",
    "Python 3.8, scikit-learn 0.24.1, nltk 3.5"
   ]
  },
  {
   "cell_type": "markdown",
   "id": "seventh-adolescent",
   "metadata": {},
   "source": [
    "## Download (Only If Missing Stopwords File)"
   ]
  },
  {
   "cell_type": "code",
   "execution_count": 1,
   "id": "minimal-holmes",
   "metadata": {},
   "outputs": [
    {
     "name": "stderr",
     "output_type": "stream",
     "text": [
      "[nltk_data] Downloading package stopwords to\n",
      "[nltk_data]     C:\\Users\\Joey\\AppData\\Roaming\\nltk_data...\n",
      "[nltk_data]   Package stopwords is already up-to-date!\n"
     ]
    },
    {
     "data": {
      "text/plain": [
       "True"
      ]
     },
     "execution_count": 1,
     "metadata": {},
     "output_type": "execute_result"
    }
   ],
   "source": [
    "import nltk\n",
    "nltk.download('stopwords')"
   ]
  },
  {
   "cell_type": "markdown",
   "id": "polar-joint",
   "metadata": {},
   "source": [
    "## Imports"
   ]
  },
  {
   "cell_type": "code",
   "execution_count": 2,
   "id": "automotive-conviction",
   "metadata": {},
   "outputs": [],
   "source": [
    "# FILE I/O\n",
    "import csv  # generate csv files\n",
    "import os  # operating system functions\n",
    "\n",
    "# DATA PREPROCESSING\n",
    "import re  # regex\n",
    "from nltk.corpus import stopwords # stopwords\n",
    "from nltk.stem.porter import * # stemmer"
   ]
  },
  {
   "cell_type": "markdown",
   "id": "fundamental-delaware",
   "metadata": {},
   "source": [
    "## Create CSV file\n",
    "This will create both train and test csv files that include the raw text review with classification."
   ]
  },
  {
   "cell_type": "code",
   "execution_count": 3,
   "id": "simplified-courtesy",
   "metadata": {},
   "outputs": [],
   "source": [
    "def create_csv_file(filename, train):\n",
    "    header = ['row_number', 'text', 'classification']\n",
    "    \n",
    "    if train == True:\n",
    "        path_to_mostly_neg = \"Labeled-Data/Train/Mostly-Negative/\"\n",
    "        path_to_slightly_neg = \"Labeled-Data/Train/Slightly-Negative/\"\n",
    "        path_to_neutral = \"Labeled-Data/Train/Neutral/\"\n",
    "        path_to_slightly_pos = \"Labeled-Data/Train/Slightly-Positive/\"\n",
    "        path_to_mostly_pos = \"Labeled-Data/Train/Mostly-Positive/\"\n",
    "    else:\n",
    "        path_to_mostly_neg = \"Labeled-Data/Test/Mostly-Negative/\"\n",
    "        path_to_slightly_neg = \"Labeled-Data/Test/Slightly-Negative/\"\n",
    "        path_to_neutral = \"Labeled-Data/Test/Neutral/\"\n",
    "        path_to_slightly_pos = \"Labeled-Data/Test/Slightly-Positive/\"\n",
    "        path_to_mostly_pos = \"Labeled-Data/Test/Mostly-Positive/\"\n",
    "        \n",
    "    count = 0\n",
    "    \n",
    "    with open(filename, \"w\", newline = '') as f1:\n",
    "        writer = csv.writer(f1, delimiter = ',')\n",
    "        writer.writerow(header)\n",
    "        # add mostly negative reviews\n",
    "        for f in os.listdir(path_to_mostly_neg):\n",
    "            classification = 0\n",
    "            if f.endswith(\".txt\"):\n",
    "                open_file = open(path_to_mostly_neg+f, \"r\")\n",
    "                data = open_file.read()\n",
    "                writer.writerow([count, f'\"{data}\"', classification])\n",
    "                count += 1\n",
    "                open_file.close()\n",
    "        # add slightly negative reviews\n",
    "        for f in os.listdir(path_to_slightly_neg):\n",
    "            classification = 1\n",
    "            if f.endswith(\".txt\"):\n",
    "                open_file = open(path_to_slightly_neg+f, \"r\")\n",
    "                data = open_file.read()\n",
    "                writer.writerow([count, f'\"{data}\"', classification])\n",
    "                count += 1\n",
    "                open_file.close()\n",
    "        # add neutral reviews\n",
    "        for f in os.listdir(path_to_neutral):\n",
    "            classification = 2\n",
    "            if f.endswith(\".txt\"):\n",
    "                open_file = open(path_to_neutral+f, \"r\")\n",
    "                data = open_file.read()\n",
    "                writer.writerow([count, f'\"{data}\"', classification])\n",
    "                count += 1\n",
    "                open_file.close()\n",
    "        # add slightly positive reviews\n",
    "        for f in os.listdir(path_to_slightly_pos):\n",
    "            classification = 3\n",
    "            if f.endswith(\".txt\"):\n",
    "                open_file = open(path_to_slightly_pos+f, \"r\")\n",
    "                data = open_file.read()\n",
    "                writer.writerow([count, f'\"{data}\"', classification])\n",
    "                count += 1\n",
    "                open_file.close()\n",
    "        # add mostly positive reviews\n",
    "        for f in os.listdir(path_to_mostly_pos):\n",
    "            classification = 4\n",
    "            if f.endswith(\".txt\"):\n",
    "                open_file = open(path_to_mostly_pos+f, \"r\")\n",
    "                data = open_file.read()\n",
    "                writer.writerow([count, f'\"{data}\"', classification])\n",
    "                count += 1\n",
    "                open_file.close()"
   ]
  },
  {
   "cell_type": "code",
   "execution_count": 4,
   "id": "metric-engineer",
   "metadata": {},
   "outputs": [],
   "source": [
    "create_csv_file(\"imdb_train.csv\", train = True)\n",
    "create_csv_file(\"imdb_test.csv\", train = False)"
   ]
  },
  {
   "cell_type": "markdown",
   "id": "limited-wonder",
   "metadata": {},
   "source": [
    "## Create List of Reviews and Classifications\n",
    "review_text_train, review_text_test - contain review text in preparation for converting them into n-grams.\n",
    "\n",
    "y_train, y_test - contain classification labels for both training and testing our model."
   ]
  },
  {
   "cell_type": "code",
   "execution_count": 5,
   "id": "imperial-cardiff",
   "metadata": {},
   "outputs": [],
   "source": [
    "def create_reviews_list(filename):\n",
    "    review_text = []\n",
    "    classification = []\n",
    "    with open(filename,'r') as csvfile:\n",
    "            reader = csv.reader(csvfile, delimiter = ',')\n",
    "            next(reader, None)\n",
    "            for row in reader:\n",
    "                review_text.append(row[1])\n",
    "                classification.append(row[2])\n",
    "    return review_text, classification"
   ]
  },
  {
   "cell_type": "code",
   "execution_count": 6,
   "id": "dominican-disco",
   "metadata": {},
   "outputs": [],
   "source": [
    "review_text_train, y_train = create_reviews_list(\"imdb_train.csv\")\n",
    "review_text_test, y_test = create_reviews_list(\"imdb_test.csv\")\n",
    "\n",
    "# convert classifications to list of integers\n",
    "y_train = list(map(int, y_train))\n",
    "y_test = list(map(int, y_test))"
   ]
  },
  {
   "cell_type": "markdown",
   "id": "passive-communications",
   "metadata": {},
   "source": [
    "## Preprocess Data\n",
    "1) Remove html tags\n",
    "\n",
    "2) Remove special characters\n",
    "\n",
    "3) Convert to lowercase\n",
    "\n",
    "4) Remove stopwords\n",
    "\n",
    "5) Apply stemming\n"
   ]
  },
  {
   "cell_type": "code",
   "execution_count": 7,
   "id": "compact-possible",
   "metadata": {},
   "outputs": [],
   "source": [
    "def preprocess_data(review_text):\n",
    "    stemmer = PorterStemmer()\n",
    "    for index, row in enumerate(review_text):\n",
    "        row = re.sub(r'<.*?>', '', row) # remove html tags\n",
    "        row = re.sub(r'[^a-zA-Z. ]', '', row) # remove special characters\n",
    "        row = row.lower() # convert to lowercase\n",
    "        row = \" \".join([stemmer.stem(word) for word in row.split() if word not in set(stopwords.words('english'))]) # remove stop words and apply stemming\n",
    "        review_text[index] = row\n",
    "    return review_text"
   ]
  },
  {
   "cell_type": "code",
   "execution_count": 8,
   "id": "wanted-sally",
   "metadata": {},
   "outputs": [],
   "source": [
    "review_text_train=preprocess_data(review_text_train)\n",
    "review_text_test=preprocess_data(review_text_test)"
   ]
  },
  {
   "cell_type": "markdown",
   "id": "broad-karma",
   "metadata": {},
   "source": [
    "## Convert Review Text Into N-Grams"
   ]
  },
  {
   "cell_type": "code",
   "execution_count": null,
   "id": "textile-battlefield",
   "metadata": {},
   "outputs": [],
   "source": [
    "def text_to_ngram(review_text_train, review_text_test, ngram_range, tfidf):\n",
    "    # output of integers"
   ]
  },
  {
   "cell_type": "markdown",
   "id": "color-outdoors",
   "metadata": {},
   "source": [
    "## SGD Classifier (Stochastic Gradient Descent)"
   ]
  },
  {
   "cell_type": "code",
   "execution_count": 9,
   "id": "occupational-kernel",
   "metadata": {
    "scrolled": true
   },
   "outputs": [
    {
     "ename": "SyntaxError",
     "evalue": "unexpected EOF while parsing (<ipython-input-9-d27ede24f2da>, line 2)",
     "output_type": "error",
     "traceback": [
      "\u001b[1;36m  File \u001b[1;32m\"<ipython-input-9-d27ede24f2da>\"\u001b[1;36m, line \u001b[1;32m2\u001b[0m\n\u001b[1;33m    \u001b[0m\n\u001b[1;37m    ^\u001b[0m\n\u001b[1;31mSyntaxError\u001b[0m\u001b[1;31m:\u001b[0m unexpected EOF while parsing\n"
     ]
    }
   ],
   "source": [
    "def sgd_classifier(review_text_train, y_train, review_text_test, ngram_range, tfidf):\n"
   ]
  },
  {
   "cell_type": "markdown",
   "id": "postal-innocent",
   "metadata": {},
   "source": [
    "## SVM Classifier (Support Vector Machine)"
   ]
  },
  {
   "cell_type": "code",
   "execution_count": null,
   "id": "critical-practice",
   "metadata": {},
   "outputs": [],
   "source": [
    "def svm_classifier(review_text_train, y_train, review_text_test, ngram_range, tfidf):\n",
    "    "
   ]
  },
  {
   "cell_type": "markdown",
   "id": "fifteen-armor",
   "metadata": {},
   "source": [
    "## NB Classifier (Naive Bayes)"
   ]
  },
  {
   "cell_type": "code",
   "execution_count": null,
   "id": "activated-perry",
   "metadata": {},
   "outputs": [],
   "source": [
    "def nb_classifier(review_text_train, y_train, review_text_test, ngram_range, tfidf):\n",
    "    "
   ]
  },
  {
   "cell_type": "markdown",
   "id": "intended-prescription",
   "metadata": {},
   "source": [
    "## ME Classifier (Maximum Entropy)"
   ]
  },
  {
   "cell_type": "code",
   "execution_count": null,
   "id": "moved-director",
   "metadata": {},
   "outputs": [],
   "source": [
    "def me_classifier(review_text_train, y_train, review_text_test, ngram_range, tfidf\n",
    "                  "
   ]
  },
  {
   "cell_type": "markdown",
   "id": "pleased-marijuana",
   "metadata": {},
   "source": [
    "## Predictions"
   ]
  },
  {
   "cell_type": "code",
   "execution_count": null,
   "id": "empirical-witness",
   "metadata": {},
   "outputs": [],
   "source": []
  },
  {
   "cell_type": "code",
   "execution_count": null,
   "id": "sporting-spray",
   "metadata": {},
   "outputs": [],
   "source": []
  },
  {
   "cell_type": "code",
   "execution_count": null,
   "id": "alleged-sense",
   "metadata": {},
   "outputs": [],
   "source": []
  },
  {
   "cell_type": "code",
   "execution_count": null,
   "id": "fatty-quebec",
   "metadata": {},
   "outputs": [],
   "source": []
  }
 ],
 "metadata": {
  "kernelspec": {
   "display_name": "Python 3",
   "language": "python",
   "name": "python3"
  },
  "language_info": {
   "codemirror_mode": {
    "name": "ipython",
    "version": 3
   },
   "file_extension": ".py",
   "mimetype": "text/x-python",
   "name": "python",
   "nbconvert_exporter": "python",
   "pygments_lexer": "ipython3",
   "version": "3.7.10"
  }
 },
 "nbformat": 4,
 "nbformat_minor": 5
}
