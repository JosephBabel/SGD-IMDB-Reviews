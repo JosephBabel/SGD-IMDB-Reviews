{
 "cells": [
  {
   "cell_type": "markdown",
   "id": "laden-emerald",
   "metadata": {},
   "source": [
    "# Multiclass Sentiment Analysis Using IMDB Reviews\n",
    "\n",
    "**Authors:** Joseph Babel, Cameron Harte\n",
    "\n",
    "**Description:**\n",
    "We build several models using different classification algorithms in conjunction with n-gram and tf-idf features to find the best combination for classifying IMDB reviews into multiple sentiment classes.\n",
    "\n",
    "**Task Distribution:**\n",
    "\n",
    "Joseph Babel: Preprocess data, train and test SGD classifier, train and test SVM classifier, build confusion matrix with better prediction metrics\n",
    "\n",
    "Cameron Harte: Build csv files for train and test data, build ngram models, train and test NB classifier, train and test ME classifier\n",
    "\n",
    "**Required Modules:**\n",
    "Python 3.8, scikit-learn 0.24.1, nltk 3.5"
   ]
  },
  {
   "cell_type": "markdown",
   "id": "arctic-proceeding",
   "metadata": {},
   "source": [
    "## Download (Only If Missing Stopwords File)"
   ]
  },
  {
   "cell_type": "code",
   "execution_count": 1,
   "id": "general-inventory",
   "metadata": {},
   "outputs": [
    {
     "name": "stderr",
     "output_type": "stream",
     "text": [
      "[nltk_data] Downloading package stopwords to\n",
      "[nltk_data]     C:\\Users\\Joey\\AppData\\Roaming\\nltk_data...\n",
      "[nltk_data]   Package stopwords is already up-to-date!\n"
     ]
    },
    {
     "data": {
      "text/plain": [
       "True"
      ]
     },
     "execution_count": 1,
     "metadata": {},
     "output_type": "execute_result"
    }
   ],
   "source": [
    "import nltk\n",
    "nltk.download('stopwords')"
   ]
  },
  {
   "cell_type": "markdown",
   "id": "choice-manual",
   "metadata": {},
   "source": [
    "## Imports"
   ]
  },
  {
   "cell_type": "code",
   "execution_count": 2,
   "id": "pointed-hundred",
   "metadata": {},
   "outputs": [],
   "source": [
    "# FILE I/O\n",
    "import csv  # generate csv files\n",
    "import os  # operating system functions\n",
    "\n",
    "# DATA PREPROCESSING\n",
    "import re  # regex\n",
    "from nltk.corpus import stopwords # stopwords\n",
    "from nltk.stem.porter import * # \n",
    "\n",
    "# FEATURE EXTRACTOR\n",
    "from sklearn.feature_extraction.text import CountVectorizer\n",
    "from sklearn.feature_extraction.text import TfidfVectorizer\n",
    "\n",
    "# CLASSIFIERS\n",
    "from sklearn.linear_model import SGDClassifier # stochastic gradient descent\n",
    "from sklearn.naive_bayes import MultinomialNB # naive bayes\n",
    "\n",
    "# METRICS\n",
    "from sklearn.metrics import accuracy_score\n",
    "\n",
    "# UTILITY\n",
    "import math"
   ]
  },
  {
   "cell_type": "markdown",
   "id": "average-insight",
   "metadata": {},
   "source": [
    "## Create CSV file\n",
    "This will create both train and test csv files that include the raw text review with classification."
   ]
  },
  {
   "cell_type": "code",
   "execution_count": 3,
   "id": "exceptional-familiar",
   "metadata": {},
   "outputs": [],
   "source": [
    "def create_csv_file(filename, train):\n",
    "    header = ['row_number', 'text', 'classification']\n",
    "    \n",
    "    if train == True:\n",
    "        path_to_mostly_neg = \"Labeled-Data/Train/Mostly-Negative/\"\n",
    "        path_to_slightly_neg = \"Labeled-Data/Train/Slightly-Negative/\"\n",
    "        path_to_neutral = \"Labeled-Data/Train/Neutral/\"\n",
    "        path_to_slightly_pos = \"Labeled-Data/Train/Slightly-Positive/\"\n",
    "        path_to_mostly_pos = \"Labeled-Data/Train/Mostly-Positive/\"\n",
    "    else:\n",
    "        path_to_mostly_neg = \"Labeled-Data/Test/Mostly-Negative/\"\n",
    "        path_to_slightly_neg = \"Labeled-Data/Test/Slightly-Negative/\"\n",
    "        path_to_neutral = \"Labeled-Data/Test/Neutral/\"\n",
    "        path_to_slightly_pos = \"Labeled-Data/Test/Slightly-Positive/\"\n",
    "        path_to_mostly_pos = \"Labeled-Data/Test/Mostly-Positive/\"\n",
    "        \n",
    "    count = 0\n",
    "    \n",
    "    with open(filename, \"w\", newline = '') as f1:\n",
    "        writer = csv.writer(f1, delimiter = ',')\n",
    "        writer.writerow(header)\n",
    "        # add mostly negative reviews\n",
    "        for f in os.listdir(path_to_mostly_neg):\n",
    "            classification = 0\n",
    "            if f.endswith(\".txt\"):\n",
    "                open_file = open(path_to_mostly_neg+f, \"r\")\n",
    "                data = open_file.read()\n",
    "                writer.writerow([count, f'\"{data}\"', classification])\n",
    "                count += 1\n",
    "                open_file.close()\n",
    "        # add slightly negative reviews\n",
    "        for f in os.listdir(path_to_slightly_neg):\n",
    "            classification = 1\n",
    "            if f.endswith(\".txt\"):\n",
    "                open_file = open(path_to_slightly_neg+f, \"r\")\n",
    "                data = open_file.read()\n",
    "                writer.writerow([count, f'\"{data}\"', classification])\n",
    "                count += 1\n",
    "                open_file.close()\n",
    "        # add neutral reviews\n",
    "        for f in os.listdir(path_to_neutral):\n",
    "            classification = 2\n",
    "            if f.endswith(\".txt\"):\n",
    "                open_file = open(path_to_neutral+f, \"r\")\n",
    "                data = open_file.read()\n",
    "                writer.writerow([count, f'\"{data}\"', classification])\n",
    "                count += 1\n",
    "                open_file.close()\n",
    "        # add slightly positive reviews\n",
    "        for f in os.listdir(path_to_slightly_pos):\n",
    "            classification = 3\n",
    "            if f.endswith(\".txt\"):\n",
    "                open_file = open(path_to_slightly_pos+f, \"r\")\n",
    "                data = open_file.read()\n",
    "                writer.writerow([count, f'\"{data}\"', classification])\n",
    "                count += 1\n",
    "                open_file.close()\n",
    "        # add mostly positive reviews\n",
    "        for f in os.listdir(path_to_mostly_pos):\n",
    "            classification = 4\n",
    "            if f.endswith(\".txt\"):\n",
    "                open_file = open(path_to_mostly_pos+f, \"r\")\n",
    "                data = open_file.read()\n",
    "                writer.writerow([count, f'\"{data}\"', classification])\n",
    "                count += 1\n",
    "                open_file.close()"
   ]
  },
  {
   "cell_type": "code",
   "execution_count": 4,
   "id": "positive-shadow",
   "metadata": {},
   "outputs": [],
   "source": [
    "create_csv_file(\"imdb_train.csv\", train = True)\n",
    "create_csv_file(\"imdb_test.csv\", train = False)"
   ]
  },
  {
   "cell_type": "markdown",
   "id": "mental-paraguay",
   "metadata": {},
   "source": [
    "## Create List of Reviews and Classifications\n",
    "review_text_train, review_text_test - contain review text in preparation for converting them into n-grams.\n",
    "\n",
    "y_train, y_test - contain classification labels for both training and testing our model."
   ]
  },
  {
   "cell_type": "code",
   "execution_count": 5,
   "id": "moving-failing",
   "metadata": {},
   "outputs": [],
   "source": [
    "def create_reviews_list(filename):\n",
    "    review_text = []\n",
    "    classification = []\n",
    "    with open(filename,'r') as csvfile:\n",
    "            reader = csv.reader(csvfile, delimiter = ',')\n",
    "            next(reader, None)\n",
    "            for row in reader:\n",
    "                review_text.append(row[1])\n",
    "                classification.append(row[2])\n",
    "    return review_text, classification"
   ]
  },
  {
   "cell_type": "code",
   "execution_count": 6,
   "id": "front-mitchell",
   "metadata": {},
   "outputs": [],
   "source": [
    "review_text_train, y_train = create_reviews_list(\"imdb_train.csv\")\n",
    "review_text_test, y_test = create_reviews_list(\"imdb_test.csv\")\n",
    "\n",
    "# convert classifications to list of integers\n",
    "y_train = list(map(int, y_train))\n",
    "y_test = list(map(int, y_test))"
   ]
  },
  {
   "cell_type": "markdown",
   "id": "dedicated-fireplace",
   "metadata": {},
   "source": [
    "## Preprocess Data\n",
    "1) Remove html tags\n",
    "\n",
    "2) Remove special characters\n",
    "\n",
    "3) Convert to lowercase\n",
    "\n",
    "4) Remove stopwords\n",
    "\n",
    "5) Apply stemming\n"
   ]
  },
  {
   "cell_type": "code",
   "execution_count": 7,
   "id": "nervous-dakota",
   "metadata": {},
   "outputs": [],
   "source": [
    "def preprocess_data(review_text):\n",
    "    stemmer = PorterStemmer()\n",
    "    for index, row in enumerate(review_text):\n",
    "        row = re.sub(r'<.*?>', '', row) # remove html tags\n",
    "        row = re.sub(r'[^a-zA-Z. ]', '', row) # remove special characters\n",
    "        row = row.lower() # convert to lowercase\n",
    "        row = \" \".join([stemmer.stem(word) for word in row.split() if word not in set(stopwords.words('english'))]) # remove stop words and apply stemming\n",
    "        review_text[index] = row\n",
    "    return review_text"
   ]
  },
  {
   "cell_type": "code",
   "execution_count": 8,
   "id": "olive-improvement",
   "metadata": {},
   "outputs": [],
   "source": [
    "review_text_train=preprocess_data(review_text_train)\n",
    "review_text_test=preprocess_data(review_text_test)"
   ]
  },
  {
   "cell_type": "markdown",
   "id": "relative-upper",
   "metadata": {},
   "source": [
    "## Convert Review Text Into N-Grams"
   ]
  },
  {
   "cell_type": "code",
   "execution_count": 9,
   "id": "excess-multiple",
   "metadata": {},
   "outputs": [],
   "source": [
    "def text_to_ngram(review_text_train, review_text_test, ngram_range, tfidf):\n",
    "    if tfidf == True:\n",
    "        # use_idf when 'True' enables inverse-document-frequency re-weighting\n",
    "        # ngram_range = ngram_range sets the lower and upper boundary of range of n-values\n",
    "        tfidfvec = TfidfVectorizer(use_idf = True, analyzer = 'word', ngram_range = ngram_range)\n",
    "        \n",
    "        # training data learns vocabulary dictionary and returns document-term matrix \n",
    "        x_train = tfidfvec.fit_transform(review_text_train)\n",
    "        \n",
    "        # transforms the test data to document-term matrix\n",
    "        x_test = tfidfvec.transform(review_text_test)\n",
    "    else:\n",
    "        cvec = CountVectorizer(analyzer = 'word', ngram_range = ngram_range)\n",
    "        x_train = cvec.fit_transform(review_text_train)\n",
    "        \n",
    "        x_test = cvec.transform(review_text_test)\n",
    "        \n",
    "    return x_train, x_test\n",
    "                                    "
   ]
  },
  {
   "cell_type": "markdown",
   "id": "undefined-occasion",
   "metadata": {},
   "source": [
    "## SGD Classifier (Stochastic Gradient Descent)"
   ]
  },
  {
   "cell_type": "code",
   "execution_count": 10,
   "id": "geological-accent",
   "metadata": {
    "scrolled": true
   },
   "outputs": [],
   "source": [
    "def sgd_classifier(review_text_train, y_train, review_text_test, ngram_range, tfidf):\n",
    "    x_train, x_test = text_to_ngram(review_text_train, review_text_test, ngram_range, tfidf)\n",
    "    \n",
    "    clf = SGDClassifier(loss = \"hinge\", penalty = \"l1\")\n",
    "\n",
    "    clf.fit(x_train, y_train)\n",
    "    \n",
    "    prediction = clf.predict(x_test)\n",
    "    \n",
    "    return prediction"
   ]
  },
  {
   "cell_type": "markdown",
   "id": "relative-review",
   "metadata": {},
   "source": [
    "## SVM Classifier (Support Vector Machine)"
   ]
  },
  {
   "cell_type": "code",
   "execution_count": 11,
   "id": "above-ready",
   "metadata": {},
   "outputs": [],
   "source": [
    "def svm_classifier(review_text_train, y_train, review_text_test, ngram_range, tfidf):\n",
    "    x_train, x_test = text_to_ngram(review_text_train, review_text_test, ngram_range, tfidf)"
   ]
  },
  {
   "cell_type": "markdown",
   "id": "seasonal-mechanism",
   "metadata": {},
   "source": [
    "## NB Classifier (Naive Bayes)"
   ]
  },
  {
   "cell_type": "code",
   "execution_count": 12,
   "id": "dense-counter",
   "metadata": {},
   "outputs": [],
   "source": [
    "def nb_classifier(review_text_train, y_train, review_text_test, ngram_range, tfidf):\n",
    "    x_train, x_test = text_to_ngram(review_text_train, review_text_test, ngram_range, tfidf)\n",
    "    \n",
    "    clf = MultinomialNB()\n",
    "    \n",
    "    clf.fit(x_train, y_train)\n",
    "    \n",
    "    prediction = clf.predict(x_test)\n",
    "    \n",
    "    return prediction"
   ]
  },
  {
   "cell_type": "markdown",
   "id": "useful-oxford",
   "metadata": {},
   "source": [
    "## ME Classifier (Maximum Entropy)"
   ]
  },
  {
   "cell_type": "code",
   "execution_count": 13,
   "id": "settled-header",
   "metadata": {},
   "outputs": [],
   "source": [
    "def me_classifier(review_text_train, y_train, review_text_test, ngram_range, tfidf):\n",
    "    x_train, x_test = text_to_ngram(review_text_train, review_text_test, ngram_range, tfidf)"
   ]
  },
  {
   "cell_type": "markdown",
   "id": "parental-optics",
   "metadata": {},
   "source": [
    "# Predictions\n",
    "## SGD Classifier"
   ]
  },
  {
   "cell_type": "code",
   "execution_count": 14,
   "id": "spiritual-skating",
   "metadata": {},
   "outputs": [
    {
     "name": "stdout",
     "output_type": "stream",
     "text": [
      "SGD Classifier Accuracy Scores:\n",
      "Unigram:\t\t\t\t0.35333333333333333\n",
      "Bigram:\t\t\t\t\t0.2966666666666667\n",
      "Trigram:\t\t\t\t0.23\n",
      "Unigram + Bigram:\t\t\t0.36\n",
      "Bigram + Trigram:\t\t\t0.33666666666666667\n",
      "Unigram + Bigram + Trigram:\t\t0.35333333333333333\n",
      "\n",
      "Unigram w/ tf-idf:\t\t\t0.3433333333333333\n",
      "Bigram w/ tf-idf:\t\t\t0.32\n",
      "Trigram w/ tf-idf:\t\t\t0.24333333333333335\n",
      "Unigram + Bigram w/ tf-idf:\t\t0.36333333333333334\n",
      "Bigram + Trigram w/ tf-idf:\t\t0.2966666666666667\n",
      "Unigram + Bigram + Trigram w/ tf-idf:\t0.32\n",
      "\n"
     ]
    }
   ],
   "source": [
    "y_pred_unigram = sgd_classifier(review_text_train, y_train, review_text_test, (1,1), False)\n",
    "y_pred_bigram = sgd_classifier(review_text_train, y_train, review_text_test, (2,2), False)\n",
    "y_pred_trigram = sgd_classifier(review_text_train, y_train, review_text_test, (3,3), False)\n",
    "y_pred_unigram_bigram = sgd_classifier(review_text_train, y_train, review_text_test, (1,2), False)\n",
    "y_pred_bigram_trigram = sgd_classifier(review_text_train, y_train, review_text_test, (2,3), False)\n",
    "y_pred_unigram_bigram_trigram = sgd_classifier(review_text_train, y_train, review_text_test, (1,3), False)\n",
    "\n",
    "y_pred_unigram_tfidf = sgd_classifier(review_text_train, y_train, review_text_test, (1,1), True)\n",
    "y_pred_bigram_tfidf  = sgd_classifier(review_text_train, y_train, review_text_test, (2,2), True)\n",
    "y_pred_trigram_tfidf  = sgd_classifier(review_text_train, y_train, review_text_test, (3,3), True)\n",
    "y_pred_unigram_bigram_tfidf  = sgd_classifier(review_text_train, y_train, review_text_test, (1,2), True)\n",
    "y_pred_bigram_trigram_tfidf  = sgd_classifier(review_text_train, y_train, review_text_test, (2,3), True)\n",
    "y_pred_unigram_bigram_trigram_tfidf  = sgd_classifier(review_text_train, y_train, review_text_test, (1,3), True)\n",
    "\n",
    "print(\"SGD Classifier Accuracy Scores:\")\n",
    "print(\"Unigram:\\t\\t\\t\\t\" + str(accuracy_score(y_test, y_pred_unigram)))\n",
    "print(\"Bigram:\\t\\t\\t\\t\\t\" + str(accuracy_score(y_test, y_pred_bigram)))\n",
    "print(\"Trigram:\\t\\t\\t\\t\" + str(accuracy_score(y_test, y_pred_trigram)))\n",
    "print(\"Unigram + Bigram:\\t\\t\\t\" + str(accuracy_score(y_test, y_pred_unigram_bigram)))\n",
    "print(\"Bigram + Trigram:\\t\\t\\t\" + str(accuracy_score(y_test, y_pred_bigram_trigram)))\n",
    "print(\"Unigram + Bigram + Trigram:\\t\\t\" + str(accuracy_score(y_test, y_pred_unigram_bigram_trigram)) + \"\\n\")\n",
    "\n",
    "print(\"Unigram w/ tf-idf:\\t\\t\\t\" + str(accuracy_score(y_test, y_pred_unigram_tfidf)))\n",
    "print(\"Bigram w/ tf-idf:\\t\\t\\t\" + str(accuracy_score(y_test, y_pred_bigram_tfidf)))\n",
    "print(\"Trigram w/ tf-idf:\\t\\t\\t\" + str(accuracy_score(y_test, y_pred_trigram_tfidf)))\n",
    "print(\"Unigram + Bigram w/ tf-idf:\\t\\t\" + str(accuracy_score(y_test, y_pred_unigram_bigram_tfidf)))\n",
    "print(\"Bigram + Trigram w/ tf-idf:\\t\\t\" + str(accuracy_score(y_test, y_pred_bigram_trigram_tfidf)))\n",
    "print(\"Unigram + Bigram + Trigram w/ tf-idf:\\t\" + str(accuracy_score(y_test, y_pred_unigram_bigram_trigram_tfidf)) + \"\\n\")"
   ]
  },
  {
   "cell_type": "markdown",
   "id": "broke-charles",
   "metadata": {},
   "source": [
    "## NB Classifier"
   ]
  },
  {
   "cell_type": "code",
   "execution_count": 15,
   "id": "temporal-variance",
   "metadata": {},
   "outputs": [
    {
     "name": "stdout",
     "output_type": "stream",
     "text": [
      "NB Classifier Accuracy Scores:\n",
      "Unigram:\t\t\t\t0.36333333333333334\n",
      "Bigram:\t\t\t\t\t0.3566666666666667\n",
      "Trigram:\t\t\t\t0.23666666666666666\n",
      "Unigram + Bigram:\t\t\t0.3566666666666667\n",
      "Bigram + Trigram:\t\t\t0.35\n",
      "Unigram + Bigram + Trigram:\t\t0.36333333333333334\n",
      "\n",
      "Unigram w/ tf-idf:\t\t\t0.35333333333333333\n",
      "Bigram w/ tf-idf:\t\t\t0.3466666666666667\n",
      "Trigram w/ tf-idf:\t\t\t0.23666666666666666\n",
      "Unigram + Bigram w/ tf-idf:\t\t0.36333333333333334\n",
      "Bigram + Trigram w/ tf-idf:\t\t0.3433333333333333\n",
      "Unigram + Bigram + Trigram w/ tf-idf:\t0.36333333333333334\n",
      "\n"
     ]
    }
   ],
   "source": [
    "y_pred_unigram = nb_classifier(review_text_train, y_train, review_text_test, (1,1), False)\n",
    "y_pred_bigram = nb_classifier(review_text_train, y_train, review_text_test, (2,2), False)\n",
    "y_pred_trigram = nb_classifier(review_text_train, y_train, review_text_test, (3,3), False)\n",
    "y_pred_unigram_bigram = nb_classifier(review_text_train, y_train, review_text_test, (1,2), False)\n",
    "y_pred_bigram_trigram = nb_classifier(review_text_train, y_train, review_text_test, (2,3), False)\n",
    "y_pred_unigram_bigram_trigram = nb_classifier(review_text_train, y_train, review_text_test, (1,3), False)\n",
    "\n",
    "y_pred_unigram_tfidf = nb_classifier(review_text_train, y_train, review_text_test, (1,1), True)\n",
    "y_pred_bigram_tfidf  = nb_classifier(review_text_train, y_train, review_text_test, (2,2), True)\n",
    "y_pred_trigram_tfidf  = nb_classifier(review_text_train, y_train, review_text_test, (3,3), True)\n",
    "y_pred_unigram_bigram_tfidf  = nb_classifier(review_text_train, y_train, review_text_test, (1,2), True)\n",
    "y_pred_bigram_trigram_tfidf  = nb_classifier(review_text_train, y_train, review_text_test, (2,3), True)\n",
    "y_pred_unigram_bigram_trigram_tfidf  = nb_classifier(review_text_train, y_train, review_text_test, (1,3), True)\n",
    "\n",
    "print(\"NB Classifier Accuracy Scores:\")\n",
    "print(\"Unigram:\\t\\t\\t\\t\" + str(accuracy_score(y_test, y_pred_unigram)))\n",
    "print(\"Bigram:\\t\\t\\t\\t\\t\" + str(accuracy_score(y_test, y_pred_bigram)))\n",
    "print(\"Trigram:\\t\\t\\t\\t\" + str(accuracy_score(y_test, y_pred_trigram)))\n",
    "print(\"Unigram + Bigram:\\t\\t\\t\" + str(accuracy_score(y_test, y_pred_unigram_bigram)))\n",
    "print(\"Bigram + Trigram:\\t\\t\\t\" + str(accuracy_score(y_test, y_pred_bigram_trigram)))\n",
    "print(\"Unigram + Bigram + Trigram:\\t\\t\" + str(accuracy_score(y_test, y_pred_unigram_bigram_trigram)) + \"\\n\")\n",
    "\n",
    "print(\"Unigram w/ tf-idf:\\t\\t\\t\" + str(accuracy_score(y_test, y_pred_unigram_tfidf)))\n",
    "print(\"Bigram w/ tf-idf:\\t\\t\\t\" + str(accuracy_score(y_test, y_pred_bigram_tfidf)))\n",
    "print(\"Trigram w/ tf-idf:\\t\\t\\t\" + str(accuracy_score(y_test, y_pred_trigram_tfidf)))\n",
    "print(\"Unigram + Bigram w/ tf-idf:\\t\\t\" + str(accuracy_score(y_test, y_pred_unigram_bigram_tfidf)))\n",
    "print(\"Bigram + Trigram w/ tf-idf:\\t\\t\" + str(accuracy_score(y_test, y_pred_bigram_trigram_tfidf)))\n",
    "print(\"Unigram + Bigram + Trigram w/ tf-idf:\\t\" + str(accuracy_score(y_test, y_pred_unigram_bigram_trigram_tfidf)) + \"\\n\")"
   ]
  },
  {
   "cell_type": "code",
   "execution_count": null,
   "id": "intensive-placement",
   "metadata": {
    "scrolled": false
   },
   "outputs": [],
   "source": []
  },
  {
   "cell_type": "code",
   "execution_count": null,
   "id": "twenty-swaziland",
   "metadata": {},
   "outputs": [],
   "source": []
  }
 ],
 "metadata": {
  "kernelspec": {
   "display_name": "Python 3",
   "language": "python",
   "name": "python3"
  },
  "language_info": {
   "codemirror_mode": {
    "name": "ipython",
    "version": 3
   },
   "file_extension": ".py",
   "mimetype": "text/x-python",
   "name": "python",
   "nbconvert_exporter": "python",
   "pygments_lexer": "ipython3",
   "version": "3.7.10"
  }
 },
 "nbformat": 4,
 "nbformat_minor": 5
}
