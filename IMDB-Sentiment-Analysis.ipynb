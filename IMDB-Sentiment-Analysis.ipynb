{
 "cells": [
  {
   "cell_type": "markdown",
   "id": "alive-finland",
   "metadata": {},
   "source": [
    "# Multiclass Sentiment Analysis Using IMDB Reviews\n",
    "\n",
    "**Authors:** Joseph Babel, Cameron Harte\n",
    "\n",
    "**Description:** We build several models using different classification algorithms in conjunction with n-gram and tf-idf features to find the best combination for classifying IMDB reviews into multiple sentiment classes.\n",
    "\n",
    "**Task Distribution:**\n",
    "\n",
    "build ngram models, train and test SGD classifier, train and test SVM classifier, train and test ME classifier, train and test NB classifier, build confusion matrix with better prediction metrics\n",
    "\n",
    "\n",
    "Joseph Babel: Build csv files for train and test data, train and test SGD classifier, train and test SVM classifier, build confusion matrix with better prediction metrics\n",
    "\n",
    "Cameron Harte: Build csv files for train and test data, build ngram models, train and test NB classifier, train and test ME classifier\n",
    "\n",
    "\n",
    "\n",
    "## Imports"
   ]
  },
  {
   "cell_type": "code",
   "execution_count": 2,
   "id": "automotive-conviction",
   "metadata": {},
   "outputs": [],
   "source": [
    "import csv  # CSV file reading and writing\n",
    "import re  # regex to clean data\n",
    "import os  # operating system functions"
   ]
  },
  {
   "cell_type": "code",
   "execution_count": 6,
   "id": "simplified-courtesy",
   "metadata": {},
   "outputs": [],
   "source": [
    "def create_csv_file(filename, train=True):\n",
    "    \n",
    "    header = ['row_number', 'text', 'classification']\n",
    "    \n",
    "    if train == True:\n",
    "        path_to_mostly_neg = \"Labeled-Data/Train/Mostly-Negative/\"\n",
    "        path_to_slightly_neg = \"Labeled-Data/Train/Slightly-Negative/\"\n",
    "        path_to_neutral = \"Labeled-Data/Train/Neutral/\"\n",
    "        path_to_slightly_pos = \"Labeled-Data/Train/Slightly-Positive/\"\n",
    "        path_to_mostly_pos = \"Labeled-Data/Train/Mostly-Positive/\"\n",
    "\n",
    "    else:\n",
    "        path_to_mostly_neg = \"Labeled-Data/Test/Mostly-Negative/\"\n",
    "        path_to_slightly_neg = \"Labeled-Data/Test/Slightly-Negative/\"\n",
    "        path_to_neutral = \"Labeled-Data/Test/Neutral/\"\n",
    "        path_to_slightly_pos = \"Labeled-Data/Test/Slightly-Positive/\"\n",
    "        path_to_mostly_pos = \"Labeled-Data/Test/Mostly-Positive/\"\n",
    "        \n",
    "    count = 0\n",
    "    \n",
    "    with open(filename, \"w\", newline = '') as f1:\n",
    "        writer = csv.writer(f1, delimiter = ',')\n",
    "        writer.writerow(header)\n",
    "        '''\n",
    "        for f in os.listdir(path_to_mostly_neg):\n",
    "            classification = 0\n",
    "            if f.endswith(\".txt\"):\n",
    "                open_file = open(path_to_mostly_neg+f, \"r\")\n",
    "                data = open_file.read()\n",
    "                writer.writerow([count, f'\"{data}\"', classification])\n",
    "                count += 1\n",
    "                open_file.close()\n",
    "        for f in os.listdir(path_to_slightly_neg):\n",
    "            classification = 1\n",
    "            if f.endswith(\".txt\"):\n",
    "                open_file = open(path_to_slightly_neg+f, \"r\")\n",
    "                data = open_file.read()\n",
    "                writer.writerow([count, f'\"{data}\"', classification])\n",
    "                count += 1\n",
    "                open_file.close()\n",
    "        '''\n",
    "        for f in os.listdir(path_to_neutral):\n",
    "            classification = 2\n",
    "            if f.endswith(\".txt\"):\n",
    "                open_file = open(path_to_neutral+f, \"r\")\n",
    "                data = open_file.read()\n",
    "                writer.writerow([count, f'\"{data}\"', classification])\n",
    "                count += 1\n",
    "                open_file.close()\n",
    "        for f in os.listdir(path_to_slightly_pos):\n",
    "            classification = 3\n",
    "            if f.endswith(\".txt\"):\n",
    "                open_file = open(path_to_slightly_pos+f, \"r\")\n",
    "                data = open_file.read()\n",
    "                writer.writerow([count, f'\"{data}\"', classification])\n",
    "                count += 1\n",
    "                open_file.close()\n",
    "        for f in os.listdir(path_to_mostly_pos):\n",
    "            classification = 4\n",
    "            if f.endswith(\".txt\"):\n",
    "                open_file = open(path_to_mostly_pos+f, \"r\")\n",
    "                data = open_file.read()\n",
    "                writer.writerow([count, f'\"{data}\"', classification])\n",
    "                count += 1\n",
    "                open_file.close()"
   ]
  },
  {
   "cell_type": "code",
   "execution_count": 8,
   "id": "metric-engineer",
   "metadata": {},
   "outputs": [],
   "source": [
    "create_csv_file(\"imdb_train.csv\", train = True)\n",
    "#create_csv_file(\"imdb_test.csv\", train = False)"
   ]
  },
  {
   "cell_type": "code",
   "execution_count": null,
   "id": "imperial-cardiff",
   "metadata": {},
   "outputs": [],
   "source": []
  }
 ],
 "metadata": {
  "kernelspec": {
   "display_name": "Python 3",
   "language": "python",
   "name": "python3"
  },
  "language_info": {
   "codemirror_mode": {
    "name": "ipython",
    "version": 3
   },
   "file_extension": ".py",
   "mimetype": "text/x-python",
   "name": "python",
   "nbconvert_exporter": "python",
   "pygments_lexer": "ipython3",
   "version": "3.7.10"
  }
 },
 "nbformat": 4,
 "nbformat_minor": 5
}
